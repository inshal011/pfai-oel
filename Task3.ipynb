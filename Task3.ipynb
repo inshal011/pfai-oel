{
  "nbformat": 4,
  "nbformat_minor": 0,
  "metadata": {
    "colab": {
      "provenance": [],
      "gpuType": "T4"
    },
    "kernelspec": {
      "name": "ir",
      "display_name": "R"
    },
    "language_info": {
      "name": "R"
    },
    "accelerator": "GPU"
  },
  "cells": [
    {
      "cell_type": "code",
      "source": [
        "install.packages(\"tidyverse\")"
      ],
      "metadata": {
        "colab": {
          "base_uri": "https://localhost:8080/"
        },
        "id": "Xexm8_A5lZ7t",
        "outputId": "4463f6cc-c327-497c-e073-a332366c5218"
      },
      "execution_count": 17,
      "outputs": [
        {
          "output_type": "stream",
          "name": "stderr",
          "text": [
            "Installing package into ‘/usr/local/lib/R/site-library’\n",
            "(as ‘lib’ is unspecified)\n",
            "\n"
          ]
        }
      ]
    },
    {
      "cell_type": "code",
      "source": [
        "# Load necessary libraries\n",
        "library(tidyverse)\n"
      ],
      "metadata": {
        "colab": {
          "base_uri": "https://localhost:8080/"
        },
        "id": "JlrRGWyKlTm1",
        "outputId": "72158b52-ec2c-4345-c5ef-76cf678b5a23"
      },
      "execution_count": 18,
      "outputs": [
        {
          "output_type": "stream",
          "name": "stderr",
          "text": [
            "── \u001b[1mAttaching core tidyverse packages\u001b[22m ──────────────────────── tidyverse 2.0.0 ──\n",
            "\u001b[32m✔\u001b[39m \u001b[34mforcats  \u001b[39m 1.0.0     \u001b[32m✔\u001b[39m \u001b[34mstringr  \u001b[39m 1.5.1\n",
            "\u001b[32m✔\u001b[39m \u001b[34mggplot2  \u001b[39m 3.5.1     \u001b[32m✔\u001b[39m \u001b[34mtibble   \u001b[39m 3.2.1\n",
            "\u001b[32m✔\u001b[39m \u001b[34mlubridate\u001b[39m 1.9.4     \u001b[32m✔\u001b[39m \u001b[34mtidyr    \u001b[39m 1.3.1\n",
            "\u001b[32m✔\u001b[39m \u001b[34mpurrr    \u001b[39m 1.0.4     \n",
            "── \u001b[1mConflicts\u001b[22m ────────────────────────────────────────── tidyverse_conflicts() ──\n",
            "\u001b[31m✖\u001b[39m \u001b[34mdplyr\u001b[39m::\u001b[32mfilter()\u001b[39m masks \u001b[34mstats\u001b[39m::filter()\n",
            "\u001b[31m✖\u001b[39m \u001b[34mdplyr\u001b[39m::\u001b[32mlag()\u001b[39m    masks \u001b[34mstats\u001b[39m::lag()\n",
            "\u001b[36mℹ\u001b[39m Use the conflicted package (\u001b[3m\u001b[34m<http://conflicted.r-lib.org/>\u001b[39m\u001b[23m) to force all conflicts to become errors\n"
          ]
        }
      ]
    },
    {
      "cell_type": "code",
      "source": [
        "# 1. Load the dataset\n",
        "# Assuming the file is named 'Online Retail.csv' and is in your working directory\n",
        "df <- read.csv(\"online_retail.csv\", stringsAsFactors = FALSE)\n",
        "head(df)\n"
      ],
      "metadata": {
        "colab": {
          "base_uri": "https://localhost:8080/",
          "height": 286
        },
        "id": "LnSGBy_AlT2E",
        "outputId": "f96809ee-baf1-4d72-8e0e-6510275bb393"
      },
      "execution_count": 21,
      "outputs": [
        {
          "output_type": "display_data",
          "data": {
            "text/html": [
              "<table class=\"dataframe\">\n",
              "<caption>A data.frame: 6 × 8</caption>\n",
              "<thead>\n",
              "\t<tr><th></th><th scope=col>Invoice</th><th scope=col>StockCode</th><th scope=col>Description</th><th scope=col>Quantity</th><th scope=col>InvoiceDate</th><th scope=col>Price</th><th scope=col>Customer.ID</th><th scope=col>Country</th></tr>\n",
              "\t<tr><th></th><th scope=col>&lt;chr&gt;</th><th scope=col>&lt;chr&gt;</th><th scope=col>&lt;chr&gt;</th><th scope=col>&lt;int&gt;</th><th scope=col>&lt;chr&gt;</th><th scope=col>&lt;dbl&gt;</th><th scope=col>&lt;int&gt;</th><th scope=col>&lt;chr&gt;</th></tr>\n",
              "</thead>\n",
              "<tbody>\n",
              "\t<tr><th scope=row>1</th><td>536365</td><td>85123A</td><td>WHITE HANGING HEART T-LIGHT HOLDER </td><td>6</td><td>12/1/2010 8:26</td><td>2.55</td><td>17850</td><td>United Kingdom</td></tr>\n",
              "\t<tr><th scope=row>2</th><td>536365</td><td>71053 </td><td>WHITE METAL LANTERN                </td><td>6</td><td>12/1/2010 8:26</td><td>3.39</td><td>17850</td><td>United Kingdom</td></tr>\n",
              "\t<tr><th scope=row>3</th><td>536365</td><td>84406B</td><td>CREAM CUPID HEARTS COAT HANGER     </td><td>8</td><td>12/1/2010 8:26</td><td>2.75</td><td>17850</td><td>United Kingdom</td></tr>\n",
              "\t<tr><th scope=row>4</th><td>536365</td><td>84029G</td><td>KNITTED UNION FLAG HOT WATER BOTTLE</td><td>6</td><td>12/1/2010 8:26</td><td>3.39</td><td>17850</td><td>United Kingdom</td></tr>\n",
              "\t<tr><th scope=row>5</th><td>536365</td><td>84029E</td><td>RED WOOLLY HOTTIE WHITE HEART.     </td><td>6</td><td>12/1/2010 8:26</td><td>3.39</td><td>17850</td><td>United Kingdom</td></tr>\n",
              "\t<tr><th scope=row>6</th><td>536365</td><td>22752 </td><td>SET 7 BABUSHKA NESTING BOXES       </td><td>2</td><td>12/1/2010 8:26</td><td>7.65</td><td>17850</td><td>United Kingdom</td></tr>\n",
              "</tbody>\n",
              "</table>\n"
            ],
            "text/markdown": "\nA data.frame: 6 × 8\n\n| <!--/--> | Invoice &lt;chr&gt; | StockCode &lt;chr&gt; | Description &lt;chr&gt; | Quantity &lt;int&gt; | InvoiceDate &lt;chr&gt; | Price &lt;dbl&gt; | Customer.ID &lt;int&gt; | Country &lt;chr&gt; |\n|---|---|---|---|---|---|---|---|---|\n| 1 | 536365 | 85123A | WHITE HANGING HEART T-LIGHT HOLDER  | 6 | 12/1/2010 8:26 | 2.55 | 17850 | United Kingdom |\n| 2 | 536365 | 71053  | WHITE METAL LANTERN                 | 6 | 12/1/2010 8:26 | 3.39 | 17850 | United Kingdom |\n| 3 | 536365 | 84406B | CREAM CUPID HEARTS COAT HANGER      | 8 | 12/1/2010 8:26 | 2.75 | 17850 | United Kingdom |\n| 4 | 536365 | 84029G | KNITTED UNION FLAG HOT WATER BOTTLE | 6 | 12/1/2010 8:26 | 3.39 | 17850 | United Kingdom |\n| 5 | 536365 | 84029E | RED WOOLLY HOTTIE WHITE HEART.      | 6 | 12/1/2010 8:26 | 3.39 | 17850 | United Kingdom |\n| 6 | 536365 | 22752  | SET 7 BABUSHKA NESTING BOXES        | 2 | 12/1/2010 8:26 | 7.65 | 17850 | United Kingdom |\n\n",
            "text/latex": "A data.frame: 6 × 8\n\\begin{tabular}{r|llllllll}\n  & Invoice & StockCode & Description & Quantity & InvoiceDate & Price & Customer.ID & Country\\\\\n  & <chr> & <chr> & <chr> & <int> & <chr> & <dbl> & <int> & <chr>\\\\\n\\hline\n\t1 & 536365 & 85123A & WHITE HANGING HEART T-LIGHT HOLDER  & 6 & 12/1/2010 8:26 & 2.55 & 17850 & United Kingdom\\\\\n\t2 & 536365 & 71053  & WHITE METAL LANTERN                 & 6 & 12/1/2010 8:26 & 3.39 & 17850 & United Kingdom\\\\\n\t3 & 536365 & 84406B & CREAM CUPID HEARTS COAT HANGER      & 8 & 12/1/2010 8:26 & 2.75 & 17850 & United Kingdom\\\\\n\t4 & 536365 & 84029G & KNITTED UNION FLAG HOT WATER BOTTLE & 6 & 12/1/2010 8:26 & 3.39 & 17850 & United Kingdom\\\\\n\t5 & 536365 & 84029E & RED WOOLLY HOTTIE WHITE HEART.      & 6 & 12/1/2010 8:26 & 3.39 & 17850 & United Kingdom\\\\\n\t6 & 536365 & 22752  & SET 7 BABUSHKA NESTING BOXES        & 2 & 12/1/2010 8:26 & 7.65 & 17850 & United Kingdom\\\\\n\\end{tabular}\n",
            "text/plain": [
              "  Invoice StockCode Description                         Quantity InvoiceDate   \n",
              "1 536365  85123A    WHITE HANGING HEART T-LIGHT HOLDER  6        12/1/2010 8:26\n",
              "2 536365  71053     WHITE METAL LANTERN                 6        12/1/2010 8:26\n",
              "3 536365  84406B    CREAM CUPID HEARTS COAT HANGER      8        12/1/2010 8:26\n",
              "4 536365  84029G    KNITTED UNION FLAG HOT WATER BOTTLE 6        12/1/2010 8:26\n",
              "5 536365  84029E    RED WOOLLY HOTTIE WHITE HEART.      6        12/1/2010 8:26\n",
              "6 536365  22752     SET 7 BABUSHKA NESTING BOXES        2        12/1/2010 8:26\n",
              "  Price Customer.ID Country       \n",
              "1 2.55  17850       United Kingdom\n",
              "2 3.39  17850       United Kingdom\n",
              "3 2.75  17850       United Kingdom\n",
              "4 3.39  17850       United Kingdom\n",
              "5 3.39  17850       United Kingdom\n",
              "6 7.65  17850       United Kingdom"
            ]
          },
          "metadata": {}
        }
      ]
    },
    {
      "cell_type": "code",
      "source": [
        "print(colnames(df))"
      ],
      "metadata": {
        "colab": {
          "base_uri": "https://localhost:8080/"
        },
        "id": "gJptMg3klr8t",
        "outputId": "2a09efb5-61de-4cd4-f125-db0526659629"
      },
      "execution_count": 22,
      "outputs": [
        {
          "output_type": "stream",
          "name": "stdout",
          "text": [
            "[1] \"Invoice\"     \"StockCode\"   \"Description\" \"Quantity\"    \"InvoiceDate\"\n",
            "[6] \"Price\"       \"Customer.ID\" \"Country\"    \n"
          ]
        }
      ]
    },
    {
      "cell_type": "code",
      "source": [
        "# 2. Remove rows with missing CustomerID\n",
        "df_clean <- df %>% filter(!is.na(Customer.ID))"
      ],
      "metadata": {
        "id": "g-9fmLuelUZs"
      },
      "execution_count": 23,
      "outputs": []
    },
    {
      "cell_type": "code",
      "source": [
        "# 3. Replace missing values in UnitPrice and Quantity with their median\n",
        "# First check if these columns contain NA values\n",
        "df_clean$UnitPrice[is.na(df_clean$UnitPrice)] <- median(df_clean$UnitPrice, na.rm = TRUE)\n",
        "df_clean$Quantity[is.na(df_clean$Quantity)] <- median(df_clean$Quantity, na.rm = TRUE)\n",
        "\n"
      ],
      "metadata": {
        "id": "ua9LAa8vlUXU"
      },
      "execution_count": 24,
      "outputs": []
    },
    {
      "cell_type": "code",
      "source": [
        "# 4. Save the cleaned dataset\n",
        "write.csv(df_clean, \"processed_online_retail.csv\", row.names = FALSE)\n",
        "\n"
      ],
      "metadata": {
        "id": "af7NWRPFlUU0"
      },
      "execution_count": 25,
      "outputs": []
    },
    {
      "cell_type": "code",
      "source": [
        "# Optional: View the structure of cleaned data\n",
        "str(df_clean)\n"
      ],
      "metadata": {
        "colab": {
          "base_uri": "https://localhost:8080/"
        },
        "id": "tvFpoq1ylUSU",
        "outputId": "08810119-6bac-4c36-facf-f6cf0809b884"
      },
      "execution_count": 26,
      "outputs": [
        {
          "output_type": "stream",
          "name": "stdout",
          "text": [
            "'data.frame':\t406830 obs. of  8 variables:\n",
            " $ Invoice    : chr  \"536365\" \"536365\" \"536365\" \"536365\" ...\n",
            " $ StockCode  : chr  \"85123A\" \"71053\" \"84406B\" \"84029G\" ...\n",
            " $ Description: chr  \"WHITE HANGING HEART T-LIGHT HOLDER\" \"WHITE METAL LANTERN\" \"CREAM CUPID HEARTS COAT HANGER\" \"KNITTED UNION FLAG HOT WATER BOTTLE\" ...\n",
            " $ Quantity   : num  6 6 8 6 6 2 6 6 6 6 ...\n",
            " $ InvoiceDate: chr  \"12/1/2010 8:26\" \"12/1/2010 8:26\" \"12/1/2010 8:26\" \"12/1/2010 8:26\" ...\n",
            " $ Price      : num  2.55 3.39 2.75 3.39 3.39 7.65 4.25 1.85 1.85 4.25 ...\n",
            " $ Customer.ID: int  17850 17850 17850 17850 17850 17850 17850 17850 17850 13047 ...\n",
            " $ Country    : chr  \"United Kingdom\" \"United Kingdom\" \"United Kingdom\" \"United Kingdom\" ...\n"
          ]
        }
      ]
    }
  ]
}